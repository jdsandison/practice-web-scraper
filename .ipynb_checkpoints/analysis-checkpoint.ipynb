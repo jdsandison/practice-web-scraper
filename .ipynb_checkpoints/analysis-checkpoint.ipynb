{
 "cells": [
  {
   "cell_type": "markdown",
   "id": "e031c1a88d5c9490",
   "metadata": {
    "collapsed": false,
    "jupyter": {
     "outputs_hidden": false
    }
   },
   "source": []
  },
  {
   "cell_type": "code",
   "execution_count": null,
   "id": "544f35fcb15cc55",
   "metadata": {
    "ExecuteTime": {
     "end_time": "2023-09-21T09:20:44.672625200Z",
     "start_time": "2023-09-21T09:20:44.640466300Z"
    },
    "collapsed": false,
    "jupyter": {
     "outputs_hidden": false
    }
   },
   "outputs": [],
   "source": [
    "import numpy as np\n",
    "import pandas as pd\n",
    "import matplotlib.pyplot as plt\n",
    "import json\n",
    "import os\n",
    "\n",
    "import mysql.connector"
   ]
  },
  {
   "cell_type": "code",
   "execution_count": null,
   "id": "7eb7c0c286665a4d",
   "metadata": {
    "ExecuteTime": {
     "end_time": "2023-09-21T09:20:44.750756900Z",
     "start_time": "2023-09-21T09:20:44.640466300Z"
    },
    "collapsed": false,
    "jupyter": {
     "outputs_hidden": false
    }
   },
   "outputs": [],
   "source": [
    "mysql_password = os.environ.get(\"MYSQL_PASSWORD\")\n",
    "mydb = mysql.connector.connect(\n",
    "    host=\"localhost\",\n",
    "    user=\"root\",\n",
    "    password=mysql_password\n",
    ")\n",
    "mycursor = mydb.cursor(dictionary=True)\n",
    "\n",
    "mycursor.execute(\"USE webscraper;\")"
   ]
  },
  {
   "cell_type": "code",
   "execution_count": null,
   "id": "83e09c94609de1e",
   "metadata": {
    "ExecuteTime": {
     "end_time": "2023-09-21T09:20:45.533882200Z",
     "start_time": "2023-09-21T09:20:44.672625200Z"
    },
    "collapsed": false,
    "jupyter": {
     "outputs_hidden": false
    }
   },
   "outputs": [],
   "source": [
    "manufacturer_bar_data = []\n",
    "mycursor.execute(\"SELECT manufacturer_id, COUNT(*) as count FROM dataset GROUP BY manufacturer_id\")\n",
    "results = mycursor.fetchall()\n",
    "for row in results:\n",
    "    manufacturer_bar_data.append(row)\n",
    "\n",
    "manufacturer_ids = np.array([entry['manufacturer_id'] for entry in manufacturer_bar_data])\n",
    "counts = np.array([entry['count'] for entry in manufacturer_bar_data])\n",
    "\n",
    "plt.figure(figsize=(15,7))\n",
    "plt.bar(manufacturer_ids, counts)\n",
    "plt.title(\"Distribution of manufacturers by volume\")\n",
    "plt.xlabel(\"manufacturer_id\"), plt.ylabel(\"amount of listings\"), plt.xticks(manufacturer_ids)\n",
    "plt.show()"
   ]
  },
  {
   "cell_type": "code",
   "execution_count": null,
   "id": "6942367ea23fb683",
   "metadata": {
    "ExecuteTime": {
     "end_time": "2023-09-21T10:01:23.248169400Z",
     "start_time": "2023-09-21T10:01:22.908114600Z"
    },
    "collapsed": false,
    "jupyter": {
     "outputs_hidden": false
    }
   },
   "outputs": [],
   "source": [
    "model_bar_data = []\n",
    "mycursor.execute(\"SELECT model_id, COUNT(*) as count FROM dataset GROUP BY model_id ORDER BY count DESC LIMIT 25\")\n",
    "results = mycursor.fetchall()\n",
    "for row in results:\n",
    "    model_bar_data.append(row)\n",
    "\n",
    "model_ids = np.array([entry['model_id'] for entry in model_bar_data])\n",
    "counts = np.array([entry['count'] for entry in model_bar_data])\n",
    "\n",
    "model_names = []\n",
    "mycursor.execute(\"SELECT model_id, model_name FROM models\")\n",
    "model_name_data = mycursor.fetchall()\n",
    "\n",
    "print(model_name_data[0]['model_id'])\n",
    "\n",
    "labels = []\n",
    "\n",
    "for i in range(len(model_ids)):\n",
    "    for j in range(len(model_name_data)):\n",
    "        if model_ids[i] == model_name_data[j]['model_id']:\n",
    "            labels.append(model_name_data[j]['model_name'])\n",
    "\n",
    "\n",
    "plt.figure(figsize=(15,7))\n",
    "plt.bar(labels, counts, width=0.8, align='center', tick_label=labels)\n",
    "plt.title(\"Distribution of models by volume\")\n",
    "plt.xlabel(\"Model name\"), plt.ylabel(\"Amount of listings\")\n",
    "plt.xticks(rotation=90)\n",
    "plt.show() "
   ]
  }
 ],
 "metadata": {
  "kernelspec": {
   "display_name": "Python 3 (ipykernel)",
   "language": "python",
   "name": "python3"
  },
  "language_info": {
   "codemirror_mode": {
    "name": "ipython",
    "version": 3
   },
   "file_extension": ".py",
   "mimetype": "text/x-python",
   "name": "python",
   "nbconvert_exporter": "python",
   "pygments_lexer": "ipython3",
   "version": "3.11.4"
  }
 },
 "nbformat": 4,
 "nbformat_minor": 5
}
