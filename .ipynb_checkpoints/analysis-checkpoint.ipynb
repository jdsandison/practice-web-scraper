{
 "cells": [
  {
   "cell_type": "markdown",
   "id": "e031c1a88d5c9490",
   "metadata": {
    "collapsed": false,
    "jupyter": {
     "outputs_hidden": false
    }
   },
   "source": []
  },
  {
   "cell_type": "code",
   "execution_count": null,
   "id": "544f35fcb15cc55",
   "metadata": {
    "ExecuteTime": {
     "end_time": "2023-09-26T09:59:43.057462Z",
     "start_time": "2023-09-26T09:59:39.419132100Z"
    },
    "collapsed": false,
    "jupyter": {
     "outputs_hidden": false
    }
   },
   "outputs": [],
   "source": [
    "import numpy as np\n",
    "import pandas as pd\n",
    "import matplotlib.pyplot as plt\n",
    "import sklearn\n",
    "import os\n",
    "import warnings\n",
    "import mysql.connector\n",
    "\n",
    "warnings.filterwarnings('ignore')"
   ]
  },
  {
   "cell_type": "code",
   "execution_count": null,
   "id": "7eb7c0c286665a4d",
   "metadata": {
    "ExecuteTime": {
     "end_time": "2023-09-26T09:59:43.158649700Z",
     "start_time": "2023-09-26T09:59:43.060459100Z"
    },
    "collapsed": false,
    "jupyter": {
     "outputs_hidden": false
    }
   },
   "outputs": [],
   "source": [
    "mysql_password = os.environ.get(\"MYSQL_PASSWORD\")\n",
    "mydb = mysql.connector.connect(\n",
    "    host=\"localhost\",\n",
    "    user=\"root\",\n",
    "    password=mysql_password\n",
    ")\n",
    "mycursor = mydb.cursor(dictionary=True)\n",
    "\n",
    "mycursor.execute(\"USE webscraper;\")"
   ]
  },
  {
   "cell_type": "code",
   "execution_count": null,
   "id": "83e09c94609de1e",
   "metadata": {
    "ExecuteTime": {
     "end_time": "2023-09-26T09:59:43.740731400Z",
     "start_time": "2023-09-26T09:59:43.166642700Z"
    },
    "collapsed": false,
    "jupyter": {
     "outputs_hidden": false
    }
   },
   "outputs": [],
   "source": [
    "manufacturer_bar_data = []\n",
    "# finding the amount of each manufacturer from the database\n",
    "my_query = \"\"\"\n",
    "SELECT manufacturer_name, COUNT(*) as count\n",
    "FROM (\n",
    "    SELECT dataset.manufacturer_id, manufacturers.manufacturer_name\n",
    "    FROM dataset\n",
    "    LEFT JOIN manufacturers ON dataset.manufacturer_id = manufacturers.manufacturer_id\n",
    ") AS joined_data\n",
    "GROUP BY manufacturer_name\n",
    "ORDER BY count DESC;\n",
    "\"\"\"\n",
    "mycursor.execute(my_query)\n",
    "results = mycursor.fetchall()\n",
    "for row in results:\n",
    "    manufacturer_bar_data.append(row)\n",
    "\n",
    "# splitting the manufacturer_ids from their respective counts\n",
    "manufacturer_names = np.array([entry['manufacturer_name'] for entry in manufacturer_bar_data])\n",
    "counts = np.array([entry['count'] for entry in manufacturer_bar_data])\n",
    "\n",
    "# plotting the bar chart\n",
    "plt.figure(figsize=(15,7))\n",
    "bars = plt.bar(manufacturer_names, counts)\n",
    "for bar, count in zip(bars, counts):\n",
    "    plt.text(bar.get_x() + bar.get_width() / 2, count, str(count), ha='center', va='bottom')\n",
    "plt.title(\"Distribution of manufacturers by volume\")\n",
    "plt.xlabel(\"Manufacturers\"), plt.ylabel(\"Amount of listings\"), plt.xticks(rotation=90)\n",
    "plt.show()"
   ]
  },
  {
   "cell_type": "code",
   "execution_count": null,
   "id": "6942367ea23fb683",
   "metadata": {
    "ExecuteTime": {
     "end_time": "2023-09-26T09:59:44.136064900Z",
     "start_time": "2023-09-26T09:59:43.744728400Z"
    },
    "collapsed": false,
    "jupyter": {
     "outputs_hidden": false
    }
   },
   "outputs": [],
   "source": [
    "model_bar_data = []\n",
    "# finding the top 25 models by amount from the database\n",
    "my_query = \"\"\"\n",
    "SELECT model_name, COUNT(*) as count\n",
    "FROM (\n",
    "    SELECT dataset.model_id, models.model_name\n",
    "    FROM dataset\n",
    "    LEFT JOIN models ON dataset.model_id = models.model_id\n",
    ") AS joined_data\n",
    "GROUP BY model_name\n",
    "ORDER BY count DESC\n",
    "LIMIT 25;\n",
    "\"\"\"\n",
    "mycursor.execute(my_query)\n",
    "results = mycursor.fetchall()\n",
    "for row in results:\n",
    "    model_bar_data.append(row)\n",
    "\n",
    "# splitting the model_id from their respective counts\n",
    "model_names = np.array([entry['model_name'] for entry in model_bar_data])\n",
    "counts = np.array([entry['count'] for entry in model_bar_data])\n",
    "\n",
    "# plotting the bar chart\n",
    "plt.figure(figsize=(15,7))\n",
    "bars = plt.bar(model_names, counts)\n",
    "for bar, count in zip(bars, counts):\n",
    "    plt.text(bar.get_x() + bar.get_width() / 2, count, str(count), ha='center', va='bottom')\n",
    "plt.title(\"Top 25 models by volume\")\n",
    "plt.xlabel(\"Model name\"), plt.ylabel(\"Amount of listings\")\n",
    "plt.xticks(rotation=90)\n",
    "plt.show() "
   ]
  },
  {
   "cell_type": "code",
   "execution_count": null,
   "id": "b30837b20bef15b",
   "metadata": {
    "ExecuteTime": {
     "end_time": "2023-09-26T09:59:44.346343400Z",
     "start_time": "2023-09-26T09:59:44.136064900Z"
    },
    "collapsed": false,
    "jupyter": {
     "outputs_hidden": false
    }
   },
   "outputs": [],
   "source": [
    "# distribution of fuel types for each manufacturer\n",
    "fuel_type_query = \"\"\"\n",
    "SELECT m.manufacturer_name, f.fuel_type, \n",
    "       count(*) as occurrences\n",
    "       FROM webscraper.dataset d\n",
    "\t\t\tINNER JOIN manufacturers m ON m.manufacturer_id = d.manufacturer_id\n",
    "\t\t\tINNER JOIN fuel_types f ON f.fuel_id = d.fuel_type_id\n",
    "group by d.manufacturer_id, fuel_type_id\n",
    "order by manufacturer_name ASC, fuel_type ASC;\n",
    "\"\"\"\n",
    "\n",
    "mycursor.execute(fuel_type_query)\n",
    "results = mycursor.fetchall()\n",
    "\n",
    "# using the pd.read_sql function we can get queries directly into dataframes\n",
    "result_dataframe = pd.read_sql(fuel_type_query, mydb)\n",
    "#print(result_dataframe)\n",
    "\n",
    "\n",
    "manufacturer_fuel_data = {}\n",
    "for manufacturer in manufacturer_names:\n",
    "    manufacturer_fuel_data[manufacturer] = {}    \n",
    "for entry in results:\n",
    "    manufacturer = entry['manufacturer_name']\n",
    "    fuel_type = entry['fuel_type']\n",
    "    occurrences = entry['occurrences']\n",
    "\n",
    "    if fuel_type not in manufacturer_fuel_data[manufacturer]:\n",
    "        manufacturer_fuel_data[manufacturer][fuel_type] = occurrences\n",
    "    else:\n",
    "        manufacturer_fuel_data[manufacturer][fuel_type] += occurrences\n",
    "    \n",
    "df = pd.DataFrame.from_dict(manufacturer_fuel_data, orient='index')\n",
    "df.reset_index(inplace=True)\n",
    "df.rename(columns={'index': 'manufacturer'}, inplace=True)\n",
    "df.fillna(0, inplace=True)\n",
    "\n",
    "my_manufacturer_list = []\n",
    "my_diesel_list = []\n",
    "my_hybrid_list = []\n",
    "my_petrol_list = []\n",
    "\n",
    "# ax = df.plot(x='manufacturer', kind='bar', figsize=(15, 7), stacked=True, rot=90)\n",
    "# ax.set_xlabel('Manufacturers')\n",
    "# ax.set_ylabel('Occurrences')\n",
    "\n",
    "\n",
    "# for p in ax.patches:\n",
    "#     width, height = p.get_width(), p.get_height()\n",
    "#     x, y = p.get_xy() \n",
    "#     ax.annotate(f'{int(height)}', (x + width / 2, y + height / 2), ha='center', va='center', fontsize=10, weight='bold')\n",
    "#     \n",
    "# plt.show()"
   ]
  },
  {
   "cell_type": "code",
   "execution_count": null,
   "id": "7c5a028d-4a73-44e8-9f23-dd2732d1a3b7",
   "metadata": {},
   "outputs": [],
   "source": [
    "# scatter plots and rate analysis for the top 25 models:\n",
    "\n",
    "query = \"SELECT model_id, COUNT(*) as count FROM dataset GROUP BY model_id ORDER BY count DESC LIMIT 25\"\n",
    "results = pd.read_sql(query, mydb)\n",
    "models = list(results['model_id'])\n",
    "\n",
    "rates = []\n",
    "\n",
    "for i in range(len(models)):\n",
    "    query = f\"SELECT * FROM dataset WHERE model_id = {models[i]}\"\n",
    "    results = pd.read_sql(query, mydb)\n",
    "    \n",
    "    x = results['Mileage (miles)']\n",
    "    y = results['price']\n",
    "    \n",
    "    coefficients = np.polyfit(x, y, 1)\n",
    "    \n",
    "    plt.scatter(x, y)\n",
    "    plt.title(f\"Scatter plot of mileage vs. price for {model_bar_data[i]['model_name']}\")\n",
    "    plt.xlabel(\"Mileage (miles)\"), plt.ylabel(\"Price (£)\")\n",
    "    \n",
    "    x_array = np.array(x)\n",
    "    \n",
    "    plt.plot(x, coefficients[0] * x_array + coefficients[1], color='r')\n",
    "    \n",
    "    plt.show()\n",
    "\n",
    "    rate = (coefficients[0])\n",
    "    rates.append(rate)\n",
    "\n",
    "\n",
    "# dataframe of ascending rates of depreciation with mileage\n",
    "rates_data = {'manufacturer': [entry['model_name'] for entry in model_bar_data], 'rate': rates}\n",
    "rates_dataframe = pd.DataFrame(rates_data)\n",
    "rates_dataframe = rates_dataframe.sort_values(by='rate', ascending=True)\n",
    "rates_dataframe.reset_index(drop=True, inplace=True)\n",
    "print(rates_dataframe)"
   ]
  },
  {
   "cell_type": "code",
   "execution_count": null,
   "id": "b8e9aa336356c8e5",
   "metadata": {
    "ExecuteTime": {
     "end_time": "2023-09-26T09:59:44.677621900Z",
     "start_time": "2023-09-26T09:59:44.195497100Z"
    },
    "collapsed": false,
    "jupyter": {
     "outputs_hidden": false
    }
   },
   "outputs": [],
   "source": [
    "# analysis of vw golf petrol v diesel\n",
    "\n",
    "query = \"SELECT * FROM dataset WHERE model_id = 5 AND fuel_type_id = 2\"\n",
    "results = pd.read_sql(query, mydb)\n",
    "\n",
    "x = results['Mileage (miles)']\n",
    "y = results['price']\n",
    "\n",
    "coefficients = np.polyfit(x, y, 1)\n",
    "\n",
    "plt.scatter(x, y)\n",
    "plt.title(\"Scatter plot of mileage vs. price for petrol golfs\")\n",
    "plt.xlabel(\"Mileage (miles)\"), plt.ylabel(\"Price (£)\")\n",
    "\n",
    "x_array = np.array(x)\n",
    "\n",
    "plt.plot(x, coefficients[0] * x_array + coefficients[1], color='r')\n",
    "\n",
    "plt.show()\n",
    "\n",
    "query = \"SELECT * FROM dataset WHERE model_id = 5 AND fuel_type_id = 1\"\n",
    "results = pd.read_sql(query, mydb)\n",
    "\n",
    "x = results['Mileage (miles)']\n",
    "y = results ['price']\n",
    "\n",
    "plt.scatter(x, y)\n",
    "plt.title(\"Scatter plot of mileage vs. price for diesel golfs\")\n",
    "plt.xlabel(\"Mileage (miles)\"), plt.ylabel(\"Price (£)\")\n",
    "\n",
    "x_array = np.array(x)\n",
    "\n",
    "plt.plot(x, coefficients[0] * x_array + coefficients[1], color='r')\n",
    "\n",
    "plt.show()"
   ]
  },
  {
   "cell_type": "code",
   "execution_count": null,
   "id": "47b925acf215f261",
   "metadata": {
    "ExecuteTime": {
     "end_time": "2023-09-26T10:19:23.389203600Z",
     "start_time": "2023-09-26T10:19:22.911797800Z"
    },
    "collapsed": false,
    "jupyter": {
     "outputs_hidden": false
    }
   },
   "outputs": [],
   "source": [
    "# manual golfs\n",
    "query = \"SELECT * FROM dataset WHERE model_id = 5 and transmission_type_id = 2\"\n",
    "results = pd.read_sql(query, mydb)\n",
    "\n",
    "x = results['Mileage (miles)']\n",
    "y = results['price']\n",
    "\n",
    "coefficients = np.polyfit(x, y, 1)\n",
    "\n",
    "plt.scatter(x, y)\n",
    "plt.title(\"Scatter plot of mileage vs. price for manual golfs\")\n",
    "plt.xlabel(\"Mileage (miles)\"), plt.ylabel(\"Price (£)\")\n",
    "\n",
    "x_array = np.array(x)\n",
    "\n",
    "plt.plot(x, coefficients[0] * x_array + coefficients[1], color='r')\n",
    "\n",
    "plt.show()\n",
    "\n",
    "# automatic golfs\n",
    "query = \"SELECT * FROM dataset WHERE model_id = 5 and transmission_type_id = 3\"\n",
    "results = pd.read_sql(query, mydb)\n",
    "\n",
    "x = results['Mileage (miles)']\n",
    "y = results['price']\n",
    "\n",
    "coefficients = np.polyfit(x, y, 1)\n",
    "\n",
    "plt.scatter(x, y)\n",
    "plt.title(\"Scatter plot of mileage vs. price for automatic golfs\")\n",
    "plt.xlabel(\"Mileage (miles)\"), plt.ylabel(\"Price (£)\")\n",
    "\n",
    "x_array = np.array(x)\n",
    "\n",
    "plt.plot(x, coefficients[0] * x_array + coefficients[1], color='r')\n",
    "\n",
    "plt.show()"
   ]
  }
 ],
 "metadata": {
  "kernelspec": {
   "display_name": "Python 3 (ipykernel)",
   "language": "python",
   "name": "python3"
  },
  "language_info": {
   "codemirror_mode": {
    "name": "ipython",
    "version": 3
   },
   "file_extension": ".py",
   "mimetype": "text/x-python",
   "name": "python",
   "nbconvert_exporter": "python",
   "pygments_lexer": "ipython3",
   "version": "3.11.4"
  }
 },
 "nbformat": 4,
 "nbformat_minor": 5
}
