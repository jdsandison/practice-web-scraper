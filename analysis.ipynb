{
 "cells": [
  {
   "cell_type": "markdown",
   "id": "e031c1a88d5c9490",
   "metadata": {
    "collapsed": false,
    "jupyter": {
     "outputs_hidden": false
    }
   },
   "source": []
  },
  {
   "cell_type": "code",
   "execution_count": null,
   "id": "544f35fcb15cc55",
   "metadata": {
    "ExecuteTime": {
     "end_time": "2023-09-21T17:59:04.256230600Z",
     "start_time": "2023-09-21T17:59:02.598993100Z"
    },
    "collapsed": false,
    "jupyter": {
     "outputs_hidden": false
    }
   },
   "outputs": [],
   "source": [
    "import numpy as np\n",
    "import pandas as pd\n",
    "import matplotlib.pyplot as plt\n",
    "import sklearn\n",
    "import os\n",
    "\n",
    "import mysql.connector"
   ]
  },
  {
   "cell_type": "code",
   "execution_count": null,
   "id": "7eb7c0c286665a4d",
   "metadata": {
    "ExecuteTime": {
     "end_time": "2023-09-21T17:59:04.310098Z",
     "start_time": "2023-09-21T17:59:04.256230600Z"
    },
    "collapsed": false,
    "jupyter": {
     "outputs_hidden": false
    }
   },
   "outputs": [],
   "source": [
    "mysql_password = os.environ.get(\"MYSQL_PASSWORD\")\n",
    "mydb = mysql.connector.connect(\n",
    "    host=\"localhost\",\n",
    "    user=\"root\",\n",
    "    password=mysql_password\n",
    ")\n",
    "mycursor = mydb.cursor(dictionary=True)\n",
    "\n",
    "mycursor.execute(\"USE webscraper;\")"
   ]
  },
  {
   "cell_type": "code",
   "execution_count": null,
   "id": "83e09c94609de1e",
   "metadata": {
    "ExecuteTime": {
     "end_time": "2023-09-21T17:59:04.854261Z",
     "start_time": "2023-09-21T17:59:04.294467200Z"
    },
    "collapsed": false,
    "jupyter": {
     "outputs_hidden": false
    }
   },
   "outputs": [],
   "source": [
    "manufacturer_bar_data = []\n",
    "# finding the amount of each manufacturer from the database\n",
    "mycursor.execute(\"SELECT manufacturer_id, COUNT(*) as count FROM dataset GROUP BY manufacturer_id ORDER BY count DESC\")\n",
    "results = mycursor.fetchall()\n",
    "for row in results:\n",
    "    manufacturer_bar_data.append(row)\n",
    "\n",
    "# splitting the manufacturer_ids from their respective counts\n",
    "manufacturer_ids = np.array([entry['manufacturer_id'] for entry in manufacturer_bar_data])\n",
    "counts = np.array([entry['count'] for entry in manufacturer_bar_data])\n",
    "\n",
    "# finding the table of manufacturer_id and manufacturer_name\n",
    "mycursor.execute(\"SElECT manufacturer_id, manufacturer_name from manufacturers\")\n",
    "manufacturer_name_data = mycursor.fetchall()\n",
    "\n",
    "# matching the id with the manufacturer's name from the database\n",
    "manufacturer_labels = []\n",
    "for i in range(len(manufacturer_ids)):\n",
    "    for j in range(len(manufacturer_name_data)):\n",
    "        if manufacturer_ids[i] == manufacturer_name_data[j]['manufacturer_id']:\n",
    "            manufacturer_labels.append(manufacturer_name_data[j]['manufacturer_name'])\n",
    "\n",
    "# plotting the bar chart\n",
    "plt.figure(figsize=(15,7))\n",
    "bars = plt.bar(manufacturer_labels, counts)\n",
    "for bar, count in zip(bars, counts):\n",
    "    plt.text(bar.get_x() + bar.get_width() / 2, count, str(count), ha='center', va='bottom')\n",
    "plt.title(\"Distribution of manufacturers by volume\")\n",
    "plt.xlabel(\"Manufacturers\"), plt.ylabel(\"Amount of listings\"), plt.xticks(rotation=90)\n",
    "plt.show()"
   ]
  },
  {
   "cell_type": "code",
   "execution_count": null,
   "id": "6942367ea23fb683",
   "metadata": {
    "ExecuteTime": {
     "end_time": "2023-09-21T17:59:05.290951700Z",
     "start_time": "2023-09-21T17:59:04.854261Z"
    },
    "collapsed": false,
    "jupyter": {
     "outputs_hidden": false
    }
   },
   "outputs": [],
   "source": [
    "model_bar_data = []\n",
    "# finding the top 25 models by amount from the database\n",
    "mycursor.execute(\"SELECT model_id, COUNT(*) as count FROM dataset GROUP BY model_id ORDER BY count DESC LIMIT 25\")\n",
    "results = mycursor.fetchall()\n",
    "for row in results:\n",
    "    model_bar_data.append(row)\n",
    "\n",
    "# splitting the model_id from their respective counts\n",
    "model_ids = np.array([entry['model_id'] for entry in model_bar_data])\n",
    "counts = np.array([entry['count'] for entry in model_bar_data])\n",
    "\n",
    "# finding the table of model_id and model_name\n",
    "mycursor.execute(\"SELECT model_id, model_name FROM models\")\n",
    "model_name_data = mycursor.fetchall()\n",
    "\n",
    "# matching the model_id with the model's name from the database\n",
    "labels = []\n",
    "for i in range(len(model_ids)):\n",
    "    for j in range(len(model_name_data)):\n",
    "        if model_ids[i] == model_name_data[j]['model_id']:\n",
    "            labels.append(model_name_data[j]['model_name'])\n",
    "\n",
    "# plotting the bar chart\n",
    "plt.figure(figsize=(15,7))\n",
    "bars = plt.bar(labels, counts)\n",
    "for bar, count in zip(bars, counts):\n",
    "    plt.text(bar.get_x() + bar.get_width() / 2, count, str(count), ha='center', va='bottom')\n",
    "plt.title(\"Top 25 models by volume\")\n",
    "plt.xlabel(\"Model name\"), plt.ylabel(\"Amount of listings\")\n",
    "plt.xticks(rotation=90)\n",
    "plt.show() "
   ]
  },
  {
   "cell_type": "code",
   "execution_count": null,
   "id": "b30837b20bef15b",
   "metadata": {
    "ExecuteTime": {
     "end_time": "2023-09-21T17:59:06.464416100Z",
     "start_time": "2023-09-21T17:59:05.275321500Z"
    },
    "collapsed": false,
    "jupyter": {
     "outputs_hidden": false
    }
   },
   "outputs": [],
   "source": [
    "# distribution of fuel types for each manufacturer\n",
    "\n",
    "petrol = []\n",
    "diesel = []\n",
    "hybrid = []\n",
    "for manufacturer in manufacturer_ids:\n",
    "    petrol_query = f\"SELECT * FROM dataset WHERE fuel_type_id = 1 AND manufacturer_id = {manufacturer}\"\n",
    "    mycursor.execute(petrol_query)\n",
    "    results = mycursor.fetchall()\n",
    "    if results:\n",
    "        petrol.append(results)\n",
    "    else:\n",
    "        print(manufacturer)\n",
    "    \n",
    "    diesel_query = f\"SELECT * FROM dataset WHERE fuel_type_id = 2 AND manufacturer_id = {manufacturer}\"\n",
    "    mycursor.execute(diesel_query)\n",
    "    results = mycursor.fetchall()\n",
    "    if results:\n",
    "        diesel.append(results)\n",
    "    else:\n",
    "        print(manufacturer)\n",
    "    \n",
    "    hybrid_query =f\"SELECT * FROM dataset WHERE fuel_type_id IN (3, 4, 5, 6) AND manufacturer_id = {manufacturer}\"\n",
    "    mycursor.execute(hybrid_query)\n",
    "    results = mycursor.fetchall()\n",
    "    if results:\n",
    "        hybrid.append(results)\n",
    "    else:\n",
    "        print(manufacturer)\n",
    "\n",
    "petrol_counts = []\n",
    "for i in range(len(petrol)):\n",
    "    petrol_counts.append(len(petrol[i]))\n",
    "\n",
    "print(len(petrol_counts))\n",
    "# find for each fuel type which manufacturers arent present. Then discount from list of manufacturers then graph. then find how to combine graphs.\n",
    "\n",
    "\n",
    "\n",
    "\n",
    "# plt.figure(figsize=(15,7))\n",
    "# plt.bar(manufacturer_labels, petrol_counts)\n",
    "# plt.show()"
   ]
  }
 ],
 "metadata": {
  "kernelspec": {
   "display_name": "Python 3 (ipykernel)",
   "language": "python",
   "name": "python3"
  },
  "language_info": {
   "codemirror_mode": {
    "name": "ipython",
    "version": 3
   },
   "file_extension": ".py",
   "mimetype": "text/x-python",
   "name": "python",
   "nbconvert_exporter": "python",
   "pygments_lexer": "ipython3",
   "version": "3.11.4"
  }
 },
 "nbformat": 4,
 "nbformat_minor": 5
}
