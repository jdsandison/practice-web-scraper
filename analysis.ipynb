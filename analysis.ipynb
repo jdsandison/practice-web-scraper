{
 "cells": [
  {
   "cell_type": "markdown",
   "id": "e031c1a88d5c9490",
   "metadata": {
    "collapsed": false,
    "jupyter": {
     "outputs_hidden": false
    }
   },
   "source": []
  },
  {
   "cell_type": "code",
   "execution_count": null,
   "id": "544f35fcb15cc55",
   "metadata": {
    "ExecuteTime": {
     "end_time": "2023-09-23T08:37:08.521488400Z",
     "start_time": "2023-09-23T08:37:05.345640700Z"
    },
    "collapsed": false,
    "jupyter": {
     "outputs_hidden": false
    }
   },
   "outputs": [],
   "source": [
    "import numpy as np\n",
    "import pandas as pd\n",
    "import matplotlib.pyplot as plt\n",
    "import sklearn\n",
    "import os\n",
    "\n",
    "import mysql.connector"
   ]
  },
  {
   "cell_type": "code",
   "execution_count": null,
   "id": "7eb7c0c286665a4d",
   "metadata": {
    "ExecuteTime": {
     "end_time": "2023-09-23T08:37:08.613314800Z",
     "start_time": "2023-09-23T08:37:08.521488400Z"
    },
    "collapsed": false,
    "jupyter": {
     "outputs_hidden": false
    }
   },
   "outputs": [],
   "source": [
    "mysql_password = os.environ.get(\"MYSQL_PASSWORD\")\n",
    "mydb = mysql.connector.connect(\n",
    "    host=\"localhost\",\n",
    "    user=\"root\",\n",
    "    password=mysql_password\n",
    ")\n",
    "mycursor = mydb.cursor(dictionary=True)\n",
    "\n",
    "mycursor.execute(\"USE webscraper;\")"
   ]
  },
  {
   "cell_type": "code",
   "execution_count": null,
   "id": "83e09c94609de1e",
   "metadata": {
    "ExecuteTime": {
     "end_time": "2023-09-23T08:37:09.206331400Z",
     "start_time": "2023-09-23T08:37:08.613314800Z"
    },
    "collapsed": false,
    "jupyter": {
     "outputs_hidden": false
    }
   },
   "outputs": [],
   "source": [
    "manufacturer_bar_data = []\n",
    "# finding the amount of each manufacturer from the database\n",
    "my_query = \"\"\"\n",
    "SELECT manufacturer_name, COUNT(*) as count\n",
    "FROM (\n",
    "    SELECT dataset.manufacturer_id, manufacturers.manufacturer_name\n",
    "    FROM dataset\n",
    "    LEFT JOIN manufacturers ON dataset.manufacturer_id = manufacturers.manufacturer_id\n",
    ") AS joined_data\n",
    "GROUP BY manufacturer_name\n",
    "ORDER BY count DESC;\n",
    "\"\"\"\n",
    "mycursor.execute(my_query)\n",
    "results = mycursor.fetchall()\n",
    "for row in results:\n",
    "    manufacturer_bar_data.append(row)\n",
    "\n",
    "# splitting the manufacturer_ids from their respective counts\n",
    "manufacturer_names = np.array([entry['manufacturer_name'] for entry in manufacturer_bar_data])\n",
    "counts = np.array([entry['count'] for entry in manufacturer_bar_data])\n",
    "\n",
    "# plotting the bar chart\n",
    "plt.figure(figsize=(15,7))\n",
    "bars = plt.bar(manufacturer_names, counts)\n",
    "for bar, count in zip(bars, counts):\n",
    "    plt.text(bar.get_x() + bar.get_width() / 2, count, str(count), ha='center', va='bottom')\n",
    "plt.title(\"Distribution of manufacturers by volume\")\n",
    "plt.xlabel(\"Manufacturers\"), plt.ylabel(\"Amount of listings\"), plt.xticks(rotation=90)\n",
    "plt.show()"
   ]
  },
  {
   "cell_type": "code",
   "execution_count": null,
   "id": "6942367ea23fb683",
   "metadata": {
    "ExecuteTime": {
     "end_time": "2023-09-23T08:37:09.648839500Z",
     "start_time": "2023-09-23T08:37:09.206331400Z"
    },
    "collapsed": false,
    "jupyter": {
     "outputs_hidden": false
    }
   },
   "outputs": [],
   "source": [
    "model_bar_data = []\n",
    "# finding the top 25 models by amount from the database\n",
    "my_query = \"\"\"\n",
    "SELECT model_name, COUNT(*) as count\n",
    "FROM (\n",
    "    SELECT dataset.model_id, models.model_name\n",
    "    FROM dataset\n",
    "    LEFT JOIN models ON dataset.model_id = models.model_id\n",
    ") AS joined_data\n",
    "GROUP BY model_name\n",
    "ORDER BY count DESC\n",
    "LIMIT 25;\n",
    "\"\"\"\n",
    "mycursor.execute(my_query)\n",
    "results = mycursor.fetchall()\n",
    "for row in results:\n",
    "    model_bar_data.append(row)\n",
    "\n",
    "# splitting the model_id from their respective counts\n",
    "model_names = np.array([entry['model_name'] for entry in model_bar_data])\n",
    "counts = np.array([entry['count'] for entry in model_bar_data])\n",
    "\n",
    "# plotting the bar chart\n",
    "plt.figure(figsize=(15,7))\n",
    "bars = plt.bar(model_names, counts)\n",
    "for bar, count in zip(bars, counts):\n",
    "    plt.text(bar.get_x() + bar.get_width() / 2, count, str(count), ha='center', va='bottom')\n",
    "plt.title(\"Top 25 models by volume\")\n",
    "plt.xlabel(\"Model name\"), plt.ylabel(\"Amount of listings\")\n",
    "plt.xticks(rotation=90)\n",
    "plt.show() "
   ]
  },
  {
   "cell_type": "code",
   "execution_count": null,
   "id": "b30837b20bef15b",
   "metadata": {
    "ExecuteTime": {
     "end_time": "2023-09-23T09:36:28.890005600Z",
     "start_time": "2023-09-23T09:36:22.482609400Z"
    },
    "collapsed": false,
    "jupyter": {
     "outputs_hidden": false
    }
   },
   "outputs": [],
   "source": [
    "# distribution of fuel types for each manufacturer\n",
    "fuel_type_query = \"\"\"\n",
    "SELECT m.manufacturer_name, f.fuel_type, \n",
    "       count(*) as occurrences\n",
    "       FROM webscraper.dataset d\n",
    "\t\t\tINNER JOIN manufacturers m ON m.manufacturer_id = d.manufacturer_id\n",
    "\t\t\tINNER JOIN fuel_types f ON f.fuel_id = d.fuel_type_id\n",
    "group by d.manufacturer_id, fuel_type_id\n",
    "order by manufacturer_name ASC, fuel_type ASC;\n",
    "\"\"\"\n",
    "\n",
    "mycursor.execute(fuel_type_query)\n",
    "results = mycursor.fetchall()\n",
    "\n",
    "manufacturer_fuel_data = {}\n",
    "for manufacturer in manufacturer_names:\n",
    "    manufacturer_fuel_data[manufacturer] = {}\n",
    "    \n",
    "for entry in results:\n",
    "    manufacturer = entry['manufacturer_name']\n",
    "    fuel_type = entry['fuel_type']\n",
    "    occurrences = entry['occurrences']\n",
    "\n",
    "    if fuel_type not in manufacturer_fuel_data[manufacturer]:\n",
    "        manufacturer_fuel_data[manufacturer][fuel_type] = occurrences\n",
    "    else:\n",
    "        manufacturer_fuel_data[manufacturer][fuel_type] += occurrences\n",
    "\n",
    "for manufacturer, fuel_data in manufacturer_fuel_data.items():\n",
    "    fuel_types = fuel_data.keys()\n",
    "    occurrences = fuel_data.values()\n",
    "    \n",
    "    x = range(len(fuel_types))\n",
    "    \n",
    "    plt.figure(figsize=(8, 6))\n",
    "    plt.bar(x, occurrences, tick_label=fuel_types)\n",
    "    plt.xticks(rotation=45)\n",
    "    plt.tight_layout()\n",
    "    plt.show()"
   ]
  }
 ],
 "metadata": {
  "kernelspec": {
   "display_name": "Python 3 (ipykernel)",
   "language": "python",
   "name": "python3"
  },
  "language_info": {
   "codemirror_mode": {
    "name": "ipython",
    "version": 3
   },
   "file_extension": ".py",
   "mimetype": "text/x-python",
   "name": "python",
   "nbconvert_exporter": "python",
   "pygments_lexer": "ipython3",
   "version": "3.11.4"
  }
 },
 "nbformat": 4,
 "nbformat_minor": 5
}
