{
 "cells": [
  {
   "cell_type": "markdown",
   "id": "e031c1a88d5c9490",
   "metadata": {
    "collapsed": false,
    "jupyter": {
     "outputs_hidden": false
    }
   },
   "source": []
  },
  {
   "cell_type": "code",
   "execution_count": null,
   "id": "544f35fcb15cc55",
   "metadata": {
    "ExecuteTime": {
     "end_time": "2023-09-21T13:28:08.137377200Z",
     "start_time": "2023-09-21T13:28:08.100184400Z"
    },
    "collapsed": false,
    "jupyter": {
     "outputs_hidden": false
    }
   },
   "outputs": [],
   "source": [
    "import numpy as np\n",
    "import pandas as pd\n",
    "import matplotlib.pyplot as plt\n",
    "import json\n",
    "import os\n",
    "\n",
    "import mysql.connector"
   ]
  },
  {
   "cell_type": "code",
   "execution_count": null,
   "id": "7eb7c0c286665a4d",
   "metadata": {
    "ExecuteTime": {
     "end_time": "2023-09-21T13:28:08.169346800Z",
     "start_time": "2023-09-21T13:28:08.106181600Z"
    },
    "collapsed": false,
    "jupyter": {
     "outputs_hidden": false
    }
   },
   "outputs": [],
   "source": [
    "mysql_password = os.environ.get(\"MYSQL_PASSWORD\")\n",
    "mydb = mysql.connector.connect(\n",
    "    host=\"localhost\",\n",
    "    user=\"root\",\n",
    "    password=mysql_password\n",
    ")\n",
    "mycursor = mydb.cursor(dictionary=True)\n",
    "\n",
    "mycursor.execute(\"USE webscraper;\")"
   ]
  },
  {
   "cell_type": "code",
   "execution_count": null,
   "id": "83e09c94609de1e",
   "metadata": {
    "ExecuteTime": {
     "end_time": "2023-09-21T14:21:02.017671500Z",
     "start_time": "2023-09-21T14:21:01.580299500Z"
    },
    "collapsed": false,
    "jupyter": {
     "outputs_hidden": false
    }
   },
   "outputs": [],
   "source": [
    "manufacturer_bar_data = []\n",
    "# finding the amount of each manufacturer from the database\n",
    "mycursor.execute(\"SELECT manufacturer_id, COUNT(*) as count FROM dataset GROUP BY manufacturer_id ORDER BY count DESC\")\n",
    "results = mycursor.fetchall()\n",
    "for row in results:\n",
    "    manufacturer_bar_data.append(row)\n",
    "\n",
    "# splitting the manufacturer_ids from their respective counts\n",
    "manufacturer_ids = np.array([entry['manufacturer_id'] for entry in manufacturer_bar_data])\n",
    "counts = np.array([entry['count'] for entry in manufacturer_bar_data])\n",
    "\n",
    "# finding the table of manufacturer_id and manufacturer_name\n",
    "mycursor.execute(\"SElECT manufacturer_id, manufacturer_name from manufacturers\")\n",
    "manufacturer_name_data = mycursor.fetchall()\n",
    "\n",
    "# matching the id with the manufacturer's name from the database\n",
    "labels = []\n",
    "for i in range(len(manufacturer_ids)):\n",
    "    for j in range(len(manufacturer_name_data)):\n",
    "        if manufacturer_ids[i] == manufacturer_name_data[j]['manufacturer_id']:\n",
    "            labels.append(manufacturer_name_data[j]['manufacturer_name'])\n",
    "\n",
    "# plotting the bar chart\n",
    "plt.figure(figsize=(15,7))\n",
    "bars = plt.bar(labels, counts)\n",
    "for bar, count in zip(bars, counts):\n",
    "    plt.text(bar.get_x() + bar.get_width() / 2, count, str(count), ha='center', va='bottom')\n",
    "plt.title(\"Distribution of manufacturers by volume\")\n",
    "plt.xlabel(\"Manufacturers\"), plt.ylabel(\"Amount of listings\"), plt.xticks(rotation=90)\n",
    "plt.show()"
   ]
  },
  {
   "cell_type": "code",
   "execution_count": null,
   "id": "6942367ea23fb683",
   "metadata": {
    "ExecuteTime": {
     "end_time": "2023-09-21T13:28:09.146198500Z",
     "start_time": "2023-09-21T13:28:08.782249100Z"
    },
    "collapsed": false,
    "jupyter": {
     "outputs_hidden": false
    }
   },
   "outputs": [],
   "source": [
    "model_bar_data = []\n",
    "# finding the top 25 models by amount from the database\n",
    "mycursor.execute(\"SELECT model_id, COUNT(*) as count FROM dataset GROUP BY model_id ORDER BY count DESC LIMIT 25\")\n",
    "results = mycursor.fetchall()\n",
    "for row in results:\n",
    "    model_bar_data.append(row)\n",
    "\n",
    "# splitting the model_id from their respective counts\n",
    "model_ids = np.array([entry['model_id'] for entry in model_bar_data])\n",
    "counts = np.array([entry['count'] for entry in model_bar_data])\n",
    "\n",
    "# finding the table of model_id and model_name\n",
    "mycursor.execute(\"SELECT model_id, model_name FROM models\")\n",
    "model_name_data = mycursor.fetchall()\n",
    "\n",
    "# matching the model_id with the model's name from the database\n",
    "labels = []\n",
    "for i in range(len(model_ids)):\n",
    "    for j in range(len(model_name_data)):\n",
    "        if model_ids[i] == model_name_data[j]['model_id']:\n",
    "            labels.append(model_name_data[j]['model_name'])\n",
    "\n",
    "# plotting the bar chart\n",
    "plt.figure(figsize=(15,7))\n",
    "bars = plt.bar(labels, counts)\n",
    "for bar, count in zip(bars, counts):\n",
    "    plt.text(bar.get_x() + bar.get_width() / 2, count, str(count), ha='center', va='bottom')\n",
    "plt.title(\"Top 25 models by volume\")\n",
    "plt.xlabel(\"Model name\"), plt.ylabel(\"Amount of listings\")\n",
    "plt.xticks(rotation=90)\n",
    "plt.show() "
   ]
  },
  {
   "cell_type": "code",
   "execution_count": null,
   "id": "b30837b20bef15b",
   "metadata": {
    "ExecuteTime": {
     "end_time": "2023-09-21T14:19:32.465916700Z",
     "start_time": "2023-09-21T14:19:32.405029800Z"
    },
    "collapsed": false,
    "jupyter": {
     "outputs_hidden": false
    }
   },
   "outputs": [],
   "source": [
    "# distribution of fuel types\n",
    "\n",
    "test = 1\n",
    "\n",
    "query = f\"SELECT * FROM dataset WHERE fuel_type_id = {test}\"\n",
    "mycursor.execute(query)\n",
    "print(mycursor.fetchall())"
   ]
  }
 ],
 "metadata": {
  "kernelspec": {
   "display_name": "Python 3 (ipykernel)",
   "language": "python",
   "name": "python3"
  },
  "language_info": {
   "codemirror_mode": {
    "name": "ipython",
    "version": 3
   },
   "file_extension": ".py",
   "mimetype": "text/x-python",
   "name": "python",
   "nbconvert_exporter": "python",
   "pygments_lexer": "ipython3",
   "version": "3.11.4"
  }
 },
 "nbformat": 4,
 "nbformat_minor": 5
}
